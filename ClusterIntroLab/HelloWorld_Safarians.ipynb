{
 "cells": [
  {
   "cell_type": "markdown",
   "id": "d873deed-d500-4c04-b42f-1450bf25bd16",
   "metadata": {},
   "source": [
    "# My First Notebook\n",
    "\n",
    "## subheading\n",
    "\n",
    "### third header\n",
    "\n",
    "This is a brief description of my first notebook.\n",
    "* first \n",
    "    * second\n"
   ]
  },
  {
   "cell_type": "code",
   "execution_count": 1,
   "id": "975a0424-4262-4853-aba2-981768db7baa",
   "metadata": {
    "tags": []
   },
   "outputs": [
    {
     "name": "stdout",
     "output_type": "stream",
     "text": [
      "Hello World\n"
     ]
    }
   ],
   "source": [
    "print(\"Hello World\")"
   ]
  },
  {
   "cell_type": "code",
   "execution_count": null,
   "id": "9b9cd828-977d-4f92-8c9e-c06a711461c8",
   "metadata": {},
   "outputs": [],
   "source": []
  }
 ],
 "metadata": {
  "kernelspec": {
   "display_name": "Python 3 (ipykernel)",
   "language": "python",
   "name": "python3"
  },
  "language_info": {
   "codemirror_mode": {
    "name": "ipython",
    "version": 3
   },
   "file_extension": ".py",
   "mimetype": "text/x-python",
   "name": "python",
   "nbconvert_exporter": "python",
   "pygments_lexer": "ipython3",
   "version": "3.11.5"
  }
 },
 "nbformat": 4,
 "nbformat_minor": 5
}
